{
 "cells": [
  {
   "cell_type": "code",
   "execution_count": 3,
   "metadata": {},
   "outputs": [],
   "source": [
    "import torch\n",
    "import torch.nn as nn\n",
    "import torch.nn.functional as F"
   ]
  },
  {
   "cell_type": "code",
   "execution_count": 4,
   "metadata": {},
   "outputs": [],
   "source": [
    "class TowerRerpresentation(nn.Module):\n",
    "    \n",
    "    def __init__(self, ):\n",
    "        pass\n",
    "    \n",
    "    def forward(self, x, v):\n",
    "        v.view(v.size)"
   ]
  },
  {
   "cell_type": "code",
   "execution_count": 20,
   "metadata": {},
   "outputs": [
    {
     "name": "stderr",
     "output_type": "stream",
     "text": [
      "INFO:__main__:Looking for files in: l \n"
     ]
    }
   ],
   "source": [
    "import logging\n",
    "import os, io, collections\n",
    "from PIL import Image\n",
    "from torch.utils.data import Dataset\n",
    "from torchvision.transforms import ToTensor\n",
    "\n",
    "logging.basicConfig(level=logging.INFO)\n",
    "_LOGGER = logging.getLogger(__name__)\n",
    "\n",
    "Context = collections.namedtuple('Context', ['frames', 'cameras'])\n",
    "Scene = collections.namedtuple('Scene', ['frames', 'cameras'])\n",
    "\n",
    "class ShepardMetzler(Dataset):\n",
    "    \n",
    "    def __init__(self, root_dir, transform=None, viewpoint_transform=None):\n",
    "        _LOGGER.info(\"Looking for files in: {} \".format(root_dir))\n",
    "        self.root_dir = root_dir\n",
    "        self.transform = transform\n",
    "        self.viewpoint_transform = viewpoint_transform\n",
    "    \n",
    "    def __len__(self):\n",
    "        return len(os.listdir(self.root_dir))\n",
    "    \n",
    "    def __getitem__(self, idx):\n",
    "        scene_path = os.path.join(self.root_dir, \"{}.pt\".format(idx))\n",
    "        data = torch.load(scene_path)\n",
    "        _LOGGER.info(\"{}: Type: {}\".format(data, type(data)))\n",
    "        byte_to_tensor = lambda x: ToTensor()(Image.open(io.BytesIO(x)))\n",
    "        \n",
    "        images = torch.stack([byte_to_tensor(frame) for frame in data.frames])\n",
    "        \n",
    "        viewpoints = torch.from_numpy(data.cameras)\n",
    "        viewpoints = viewpoints.view(-1, 5)\n",
    "        \n",
    "        if self.transform:\n",
    "            images = self.transform(images)\n",
    "            \n",
    "        if self.viewpoint_transform:\n",
    "            viewpoints = self.viewpoint_transform(viewpoints)\n",
    "        \n",
    "        return images, viewpoints\n",
    "    \n",
    "dataset = ShepardMetzler('l')"
   ]
  },
  {
   "cell_type": "code",
   "execution_count": null,
   "metadata": {},
   "outputs": [],
   "source": []
  }
 ],
 "metadata": {
  "kernelspec": {
   "display_name": "Python 3",
   "language": "python",
   "name": "python3"
  },
  "language_info": {
   "codemirror_mode": {
    "name": "ipython",
    "version": 3
   },
   "file_extension": ".py",
   "mimetype": "text/x-python",
   "name": "python",
   "nbconvert_exporter": "python",
   "pygments_lexer": "ipython3",
   "version": "3.7.1"
  }
 },
 "nbformat": 4,
 "nbformat_minor": 2
}
